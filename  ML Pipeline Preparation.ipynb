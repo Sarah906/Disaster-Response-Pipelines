{
 "cells": [
  {
   "cell_type": "markdown",
   "metadata": {},
   "source": [
    "# ML Pipeline Preparation\n",
    "Follow the instructions below to help you create your ML pipeline.\n",
    "### 1. Import libraries and load data from database.\n",
    "- Import Python libraries\n",
    "- Load dataset from database with [`read_sql_table`](https://pandas.pydata.org/pandas-docs/stable/generated/pandas.read_sql_table.html)\n",
    "- Define feature and target variables X and Y"
   ]
  },
  {
   "cell_type": "code",
   "execution_count": 19,
   "metadata": {},
   "outputs": [],
   "source": [
    "# import libraries\n",
    "import pandas as pd\n",
    "import numpy as np\n",
    "import re\n",
    "from sqlalchemy import create_engine\n",
    "\n",
    "import nltk\n",
    "from nltk.tokenize import word_tokenize\n",
    "from nltk.corpus import stopwords\n",
    "from nltk import pos_tag ,ne_chunk\n",
    "from nltk.stem.wordnet import WordNetLemmatizer\n",
    "from nltk.stem.porter import PorterStemmer\n",
    "\n",
    "from sklearn.feature_extraction.text import CountVectorizer\n",
    "from sklearn.feature_extraction.text import TfidfTransformer\n",
    "\n",
    "from sklearn.model_selection import train_test_split\n",
    "\n",
    "from sklearn.pipeline import Pipeline\n",
    "from sklearn.ensemble import RandomForestClassifier\n",
    "from sklearn.multioutput import MultiOutputClassifier\n",
    "\n",
    "\n",
    "from sklearn.metrics import classification_report\n",
    "from sklearn.model_selection import GridSearchCV\n",
    "from sklearn.ensemble import AdaBoostClassifier\n",
    "from sklearn.tree import DecisionTreeClassifier\n",
    "import pickle\n"
   ]
  },
  {
   "cell_type": "code",
   "execution_count": 2,
   "metadata": {},
   "outputs": [],
   "source": [
    "# load data from database\n",
    "engine = create_engine('sqlite:///DR.db')\n",
    "df = pd.read_sql(\"SELECT * FROM Messages\", engine)\n",
    "\n",
    "X = df.message\n",
    "Y = df.iloc[:,4:]"
   ]
  },
  {
   "cell_type": "code",
   "execution_count": 3,
   "metadata": {},
   "outputs": [
    {
     "data": {
      "text/plain": [
       "((26028, 39), (26028,), (26028, 35))"
      ]
     },
     "execution_count": 3,
     "metadata": {},
     "output_type": "execute_result"
    }
   ],
   "source": [
    "# checking if all shape\n",
    "df.shape , X.shape , Y.shape"
   ]
  },
  {
   "cell_type": "markdown",
   "metadata": {},
   "source": [
    "### 2. Write a tokenization function to process your text data"
   ]
  },
  {
   "cell_type": "code",
   "execution_count": 4,
   "metadata": {},
   "outputs": [],
   "source": [
    "def tokenize(text):\n",
    "    '''\n",
    "    toknizing text messges \n",
    "    '''\n",
    "    # normalize text\n",
    "    text = re.sub(r\"[^a-zA-Z0-9]\", \" \",text.lower())\n",
    "    # tokenize text\n",
    "    words = word_tokenize(text)\n",
    "    # remove stop words\n",
    "    words = [w for w in words if w not in stopwords.words('English')] \n",
    "    # reduce words to their root form\n",
    "    \n",
    "    \n",
    "#     lemmed = [WordNetLemmatizer().lemmatize(w) for w in words]\n",
    "\n",
    "\n",
    "\n",
    "    # reduce words to their stems\n",
    "    stemmed = [PorterStemmer().stem(w) for w in words]\n",
    "\n",
    "\n",
    "\n",
    "    return stemmed"
   ]
  },
  {
   "cell_type": "markdown",
   "metadata": {},
   "source": [
    "### 3. Build a machine learning pipeline\n",
    "This machine pipeline should take in the `message` column as input and output classification results on the other 36 categories in the dataset. You may find the [MultiOutputClassifier](http://scikit-learn.org/stable/modules/generated/sklearn.multioutput.MultiOutputClassifier.html) helpful for predicting multiple target variables."
   ]
  },
  {
   "cell_type": "code",
   "execution_count": 6,
   "metadata": {},
   "outputs": [],
   "source": [
    "pipeline = Pipeline([('cvect', CountVectorizer(tokenizer = tokenize)),\n",
    "                     ('tfidf', TfidfTransformer()),\n",
    "                     ('clf', RandomForestClassifier())\n",
    "                     ])"
   ]
  },
  {
   "cell_type": "markdown",
   "metadata": {},
   "source": [
    "### 4. Train pipeline\n",
    "- Split data into train and test sets\n",
    "- Train pipeline"
   ]
  },
  {
   "cell_type": "code",
   "execution_count": 7,
   "metadata": {},
   "outputs": [
    {
     "name": "stderr",
     "output_type": "stream",
     "text": [
      "/anaconda3/lib/python3.6/site-packages/sklearn/ensemble/forest.py:246: FutureWarning: The default value of n_estimators will change from 10 in version 0.20 to 100 in 0.22.\n",
      "  \"10 in version 0.20 to 100 in 0.22.\", FutureWarning)\n"
     ]
    },
    {
     "data": {
      "text/plain": [
       "Pipeline(memory=None,\n",
       "     steps=[('cvect', CountVectorizer(analyzer='word', binary=False, decode_error='strict',\n",
       "        dtype=<class 'numpy.int64'>, encoding='utf-8', input='content',\n",
       "        lowercase=True, max_df=1.0, max_features=None, min_df=1,\n",
       "        ngram_range=(1, 1), preprocessor=None, stop_words=None,\n",
       "        stri...obs=None,\n",
       "            oob_score=False, random_state=None, verbose=0,\n",
       "            warm_start=False))])"
      ]
     },
     "execution_count": 7,
     "metadata": {},
     "output_type": "execute_result"
    }
   ],
   "source": [
    "# split data into train and test sets\n",
    "X_train, X_test, y_train, y_test = train_test_split(X, Y, test_size=0.4, random_state=42)\n",
    "# train pipeline\n",
    "pipeline.fit(X_train,y_train)"
   ]
  },
  {
   "cell_type": "markdown",
   "metadata": {},
   "source": [
    "### 5. Test your model\n",
    "Report the f1 score, precision and recall for each output category of the dataset. You can do this by iterating through the columns and calling sklearn's `classification_report` on each."
   ]
  },
  {
   "cell_type": "code",
   "execution_count": 8,
   "metadata": {
    "scrolled": false
   },
   "outputs": [
    {
     "name": "stdout",
     "output_type": "stream",
     "text": [
      "                        precision    recall  f1-score   support\n",
      "\n",
      "               related       0.99      0.99      0.99     11972\n",
      "               request       1.00      0.93      0.96      2698\n",
      "                 offer       1.00      0.71      0.83        75\n",
      "           aid_related       1.00      0.96      0.98      6479\n",
      "          medical_help       1.00      0.83      0.91      1237\n",
      "      medical_products       1.00      0.84      0.91       784\n",
      "     search_and_rescue       1.00      0.77      0.87       404\n",
      "              security       0.99      0.74      0.85       266\n",
      "              military       1.00      0.87      0.93       509\n",
      "                 water       1.00      0.92      0.96      1000\n",
      "                  food       1.00      0.93      0.96      1750\n",
      "               shelter       1.00      0.91      0.95      1387\n",
      "              clothing       1.00      0.88      0.94       253\n",
      "                 money       1.00      0.81      0.90       345\n",
      "        missing_people       0.99      0.71      0.83       183\n",
      "              refugees       1.00      0.81      0.89       528\n",
      "                 death       1.00      0.85      0.92       704\n",
      "             other_aid       1.00      0.85      0.92      2060\n",
      "infrastructure_related       1.00      0.76      0.87      1038\n",
      "             transport       1.00      0.81      0.89       714\n",
      "             buildings       1.00      0.85      0.92       758\n",
      "           electricity       1.00      0.82      0.90       313\n",
      "                 tools       1.00      0.76      0.86        92\n",
      "             hospitals       1.00      0.76      0.86       172\n",
      "                 shops       1.00      0.65      0.79        74\n",
      "           aid_centers       1.00      0.79      0.88       196\n",
      "  other_infrastructure       1.00      0.74      0.85       695\n",
      "       weather_related       1.00      0.96      0.98      4362\n",
      "                floods       1.00      0.92      0.96      1273\n",
      "                 storm       1.00      0.91      0.95      1450\n",
      "                  fire       1.00      0.78      0.88       162\n",
      "            earthquake       0.99      0.95      0.97      1483\n",
      "                  cold       1.00      0.82      0.90       319\n",
      "         other_weather       1.00      0.81      0.89       848\n",
      "         direct_report       1.00      0.92      0.96      3021\n",
      "\n",
      "             micro avg       1.00      0.92      0.96     49604\n",
      "             macro avg       1.00      0.84      0.91     49604\n",
      "          weighted avg       1.00      0.92      0.95     49604\n",
      "           samples avg       0.76      0.72      0.73     49604\n",
      "\n"
     ]
    },
    {
     "name": "stderr",
     "output_type": "stream",
     "text": [
      "/anaconda3/lib/python3.6/site-packages/sklearn/metrics/classification.py:1143: UndefinedMetricWarning: Precision and F-score are ill-defined and being set to 0.0 in samples with no predicted labels.\n",
      "  'precision', 'predicted', average, warn_for)\n",
      "/anaconda3/lib/python3.6/site-packages/sklearn/metrics/classification.py:1145: UndefinedMetricWarning: Recall and F-score are ill-defined and being set to 0.0 in samples with no true labels.\n",
      "  'recall', 'true', average, warn_for)\n"
     ]
    }
   ],
   "source": [
    "# test the model\n",
    "y_pred = pipeline.predict(X_train)\n",
    "# report the f1 score, precision and recall\n",
    "print(classification_report(y_train.values, y_pred, target_names=Y.columns))"
   ]
  },
  {
   "cell_type": "code",
   "execution_count": 9,
   "metadata": {},
   "outputs": [
    {
     "name": "stdout",
     "output_type": "stream",
     "text": [
      "                        precision    recall  f1-score   support\n",
      "\n",
      "               related       0.87      0.89      0.88      7934\n",
      "               request       0.78      0.47      0.58      1776\n",
      "                 offer       0.00      0.00      0.00        43\n",
      "           aid_related       0.78      0.47      0.58      4381\n",
      "          medical_help       0.52      0.03      0.05       847\n",
      "      medical_products       0.69      0.04      0.08       529\n",
      "     search_and_rescue       0.60      0.01      0.02       320\n",
      "              security       0.50      0.00      0.01       205\n",
      "              military       0.52      0.05      0.09       351\n",
      "                 water       0.85      0.22      0.35       672\n",
      "                  food       0.83      0.45      0.59      1173\n",
      "               shelter       0.83      0.20      0.32       927\n",
      "              clothing       0.77      0.15      0.25       152\n",
      "                 money       0.73      0.03      0.06       259\n",
      "        missing_people       1.00      0.02      0.03       115\n",
      "              refugees       0.45      0.01      0.03       347\n",
      "                 death       0.78      0.06      0.11       490\n",
      "             other_aid       0.55      0.05      0.10      1386\n",
      "infrastructure_related       0.33      0.01      0.01       667\n",
      "             transport       0.65      0.02      0.04       487\n",
      "             buildings       0.79      0.07      0.12       575\n",
      "           electricity       0.75      0.01      0.03       219\n",
      "                 tools       0.00      0.00      0.00        67\n",
      "             hospitals       0.00      0.00      0.00       111\n",
      "                 shops       0.00      0.00      0.00        46\n",
      "           aid_centers       0.00      0.00      0.00       113\n",
      "  other_infrastructure       0.20      0.00      0.00       456\n",
      "       weather_related       0.85      0.47      0.61      2935\n",
      "                floods       0.90      0.28      0.43       882\n",
      "                 storm       0.79      0.19      0.31       993\n",
      "                  fire       0.33      0.01      0.02       120\n",
      "            earthquake       0.85      0.46      0.60       972\n",
      "                  cold       1.00      0.02      0.04       211\n",
      "         other_weather       0.40      0.01      0.02       528\n",
      "         direct_report       0.74      0.33      0.46      2054\n",
      "\n",
      "             micro avg       0.83      0.42      0.56     33343\n",
      "             macro avg       0.59      0.14      0.19     33343\n",
      "          weighted avg       0.75      0.42      0.49     33343\n",
      "           samples avg       0.64      0.39      0.43     33343\n",
      "\n"
     ]
    },
    {
     "name": "stderr",
     "output_type": "stream",
     "text": [
      "/anaconda3/lib/python3.6/site-packages/sklearn/metrics/classification.py:1143: UndefinedMetricWarning: Precision and F-score are ill-defined and being set to 0.0 in labels with no predicted samples.\n",
      "  'precision', 'predicted', average, warn_for)\n"
     ]
    }
   ],
   "source": [
    "# test the model\n",
    "y_pred_test = pipeline.predict(X_test)\n",
    "# report the f1 score, precision and recall\n",
    "print(classification_report(y_test.values, y_pred_test, target_names=Y.columns))"
   ]
  },
  {
   "cell_type": "markdown",
   "metadata": {},
   "source": [
    "### 6. Improve your model\n",
    "Use grid search to find better parameters. "
   ]
  },
  {
   "cell_type": "code",
   "execution_count": 11,
   "metadata": {},
   "outputs": [
    {
     "name": "stdout",
     "output_type": "stream",
     "text": [
      "Fitting 3 folds for each of 81 candidates, totalling 243 fits\n"
     ]
    },
    {
     "name": "stderr",
     "output_type": "stream",
     "text": [
      "[Parallel(n_jobs=-1)]: Using backend LokyBackend with 4 concurrent workers.\n",
      "[Parallel(n_jobs=-1)]: Done  42 tasks      | elapsed: 60.7min\n",
      "[Parallel(n_jobs=-1)]: Done 192 tasks      | elapsed: 246.8min\n",
      "[Parallel(n_jobs=-1)]: Done 243 out of 243 | elapsed: 309.8min finished\n"
     ]
    }
   ],
   "source": [
    "parameters = {'clf__max_depth': [10, 20, None],\n",
    "              'clf__min_samples_leaf': [1, 2, 4],\n",
    "              'clf__min_samples_split': [2, 5, 10],\n",
    "              'clf__n_estimators': [10, 20, 40]}\n",
    "\n",
    "cv = GridSearchCV(pipeline, param_grid=parameters, scoring='f1_micro', verbose=1, n_jobs=-1)\n",
    "clf_cv = cv.fit(X_train, y_train)"
   ]
  },
  {
   "cell_type": "markdown",
   "metadata": {},
   "source": [
    "### 7. Test your model\n",
    "Show the accuracy, precision, and recall of the tuned model.  \n",
    "\n",
    "Since this project focuses on code quality, process, and  pipelines, there is no minimum performance metric needed to pass. However, make sure to fine tune your models for accuracy, precision and recall to make your project stand out - especially for your portfolio!"
   ]
  },
  {
   "cell_type": "code",
   "execution_count": 12,
   "metadata": {},
   "outputs": [
    {
     "name": "stdout",
     "output_type": "stream",
     "text": [
      "                        precision    recall  f1-score   support\n",
      "\n",
      "               related       0.85      0.93      0.89      7934\n",
      "               request       0.84      0.49      0.62      1776\n",
      "                 offer       0.00      0.00      0.00        43\n",
      "           aid_related       0.81      0.57      0.67      4381\n",
      "          medical_help       0.62      0.02      0.03       847\n",
      "      medical_products       0.84      0.03      0.06       529\n",
      "     search_and_rescue       0.71      0.02      0.03       320\n",
      "              security       0.50      0.00      0.01       205\n",
      "              military       0.59      0.07      0.12       351\n",
      "                 water       0.91      0.25      0.39       672\n",
      "                  food       0.86      0.44      0.59      1173\n",
      "               shelter       0.89      0.23      0.37       927\n",
      "              clothing       0.75      0.12      0.20       152\n",
      "                 money       1.00      0.01      0.02       259\n",
      "        missing_people       0.00      0.00      0.00       115\n",
      "              refugees       0.67      0.02      0.03       347\n",
      "                 death       0.85      0.06      0.11       490\n",
      "             other_aid       0.69      0.03      0.06      1386\n",
      "infrastructure_related       0.20      0.00      0.00       667\n",
      "             transport       1.00      0.03      0.06       487\n",
      "             buildings       0.70      0.03      0.06       575\n",
      "           electricity       1.00      0.00      0.01       219\n",
      "                 tools       0.00      0.00      0.00        67\n",
      "             hospitals       0.00      0.00      0.00       111\n",
      "                 shops       0.00      0.00      0.00        46\n",
      "           aid_centers       0.00      0.00      0.00       113\n",
      "  other_infrastructure       0.25      0.00      0.00       456\n",
      "       weather_related       0.87      0.58      0.69      2935\n",
      "                floods       0.92      0.27      0.42       882\n",
      "                 storm       0.79      0.26      0.40       993\n",
      "                  fire       0.45      0.04      0.08       120\n",
      "            earthquake       0.88      0.63      0.73       972\n",
      "                  cold       1.00      0.00      0.01       211\n",
      "         other_weather       0.83      0.01      0.02       528\n",
      "         direct_report       0.79      0.36      0.50      2054\n",
      "\n",
      "             micro avg       0.84      0.46      0.60     33343\n",
      "             macro avg       0.63      0.16      0.21     33343\n",
      "          weighted avg       0.79      0.46      0.52     33343\n",
      "           samples avg       0.67      0.43      0.47     33343\n",
      "\n"
     ]
    },
    {
     "name": "stderr",
     "output_type": "stream",
     "text": [
      "/anaconda3/lib/python3.6/site-packages/sklearn/metrics/classification.py:1143: UndefinedMetricWarning: Precision and F-score are ill-defined and being set to 0.0 in labels with no predicted samples.\n",
      "  'precision', 'predicted', average, warn_for)\n",
      "/anaconda3/lib/python3.6/site-packages/sklearn/metrics/classification.py:1143: UndefinedMetricWarning: Precision and F-score are ill-defined and being set to 0.0 in samples with no predicted labels.\n",
      "  'precision', 'predicted', average, warn_for)\n",
      "/anaconda3/lib/python3.6/site-packages/sklearn/metrics/classification.py:1145: UndefinedMetricWarning: Recall and F-score are ill-defined and being set to 0.0 in samples with no true labels.\n",
      "  'recall', 'true', average, warn_for)\n"
     ]
    }
   ],
   "source": [
    "# test the model\n",
    "y_pred_cv = cv.predict(X_test)\n",
    "# report the f1 score, precision and recall\n",
    "print(classification_report(y_test.values, y_pred_cv, target_names=Y.columns))"
   ]
  },
  {
   "cell_type": "code",
   "execution_count": 16,
   "metadata": {},
   "outputs": [
    {
     "data": {
      "text/plain": [
       "{'clf__max_depth': None,\n",
       " 'clf__min_samples_leaf': 1,\n",
       " 'clf__min_samples_split': 5,\n",
       " 'clf__n_estimators': 40}"
      ]
     },
     "execution_count": 16,
     "metadata": {},
     "output_type": "execute_result"
    }
   ],
   "source": [
    "cv.best_params_"
   ]
  },
  {
   "cell_type": "markdown",
   "metadata": {},
   "source": [
    "### 8. Try improving your model further. Here are a few ideas:\n",
    "* try other machine learning algorithms\n",
    "* add other features besides the TF-IDF"
   ]
  },
  {
   "cell_type": "code",
   "execution_count": 29,
   "metadata": {},
   "outputs": [],
   "source": [
    "pipeline_1 = Pipeline([('cvect', CountVectorizer(tokenizer = tokenize)),\n",
    "                     ('tfidf', TfidfTransformer()),\n",
    "                     ('clf', DecisionTreeClassifier())\n",
    "                     ])"
   ]
  },
  {
   "cell_type": "code",
   "execution_count": 32,
   "metadata": {},
   "outputs": [],
   "source": [
    "X_train, X_test, y_train, y_test = train_test_split(X, Y.values, test_size=0.4, random_state=42)\n",
    "# train pipeline\n",
    "clf_1 = pipeline_1.fit(X_train,y_train)"
   ]
  },
  {
   "cell_type": "code",
   "execution_count": 33,
   "metadata": {},
   "outputs": [
    {
     "name": "stdout",
     "output_type": "stream",
     "text": [
      "                        precision    recall  f1-score   support\n",
      "\n",
      "               related       0.87      0.89      0.88      7934\n",
      "               request       0.78      0.47      0.58      1776\n",
      "                 offer       0.00      0.00      0.00        43\n",
      "           aid_related       0.78      0.47      0.58      4381\n",
      "          medical_help       0.52      0.03      0.05       847\n",
      "      medical_products       0.69      0.04      0.08       529\n",
      "     search_and_rescue       0.60      0.01      0.02       320\n",
      "              security       0.50      0.00      0.01       205\n",
      "              military       0.52      0.05      0.09       351\n",
      "                 water       0.85      0.22      0.35       672\n",
      "                  food       0.83      0.45      0.59      1173\n",
      "               shelter       0.83      0.20      0.32       927\n",
      "              clothing       0.77      0.15      0.25       152\n",
      "                 money       0.73      0.03      0.06       259\n",
      "        missing_people       1.00      0.02      0.03       115\n",
      "              refugees       0.45      0.01      0.03       347\n",
      "                 death       0.78      0.06      0.11       490\n",
      "             other_aid       0.55      0.05      0.10      1386\n",
      "infrastructure_related       0.33      0.01      0.01       667\n",
      "             transport       0.65      0.02      0.04       487\n",
      "             buildings       0.79      0.07      0.12       575\n",
      "           electricity       0.75      0.01      0.03       219\n",
      "                 tools       0.00      0.00      0.00        67\n",
      "             hospitals       0.00      0.00      0.00       111\n",
      "                 shops       0.00      0.00      0.00        46\n",
      "           aid_centers       0.00      0.00      0.00       113\n",
      "  other_infrastructure       0.20      0.00      0.00       456\n",
      "       weather_related       0.85      0.47      0.61      2935\n",
      "                floods       0.90      0.28      0.43       882\n",
      "                 storm       0.79      0.19      0.31       993\n",
      "                  fire       0.33      0.01      0.02       120\n",
      "            earthquake       0.85      0.46      0.60       972\n",
      "                  cold       1.00      0.02      0.04       211\n",
      "         other_weather       0.40      0.01      0.02       528\n",
      "         direct_report       0.74      0.33      0.46      2054\n",
      "\n",
      "             micro avg       0.83      0.42      0.56     33343\n",
      "             macro avg       0.59      0.14      0.19     33343\n",
      "          weighted avg       0.75      0.42      0.49     33343\n",
      "           samples avg       0.64      0.39      0.43     33343\n",
      "\n"
     ]
    },
    {
     "name": "stderr",
     "output_type": "stream",
     "text": [
      "/anaconda3/lib/python3.6/site-packages/sklearn/metrics/classification.py:1143: UndefinedMetricWarning: Precision and F-score are ill-defined and being set to 0.0 in labels with no predicted samples.\n",
      "  'precision', 'predicted', average, warn_for)\n",
      "/anaconda3/lib/python3.6/site-packages/sklearn/metrics/classification.py:1143: UndefinedMetricWarning: Precision and F-score are ill-defined and being set to 0.0 in samples with no predicted labels.\n",
      "  'precision', 'predicted', average, warn_for)\n",
      "/anaconda3/lib/python3.6/site-packages/sklearn/metrics/classification.py:1145: UndefinedMetricWarning: Recall and F-score are ill-defined and being set to 0.0 in samples with no true labels.\n",
      "  'recall', 'true', average, warn_for)\n"
     ]
    }
   ],
   "source": [
    "# test the model\n",
    "y_pred_test_1 = pipeline_1.predict(X_test)\n",
    "# report the f1 score, precision and recall\n",
    "print(classification_report(y_test, y_pred_test, target_names=Y.columns))"
   ]
  },
  {
   "cell_type": "markdown",
   "metadata": {},
   "source": [
    "### 9. Export your model as a pickle file"
   ]
  },
  {
   "cell_type": "code",
   "execution_count": 1,
   "metadata": {},
   "outputs": [
    {
     "ename": "NameError",
     "evalue": "name 'pickle' is not defined",
     "output_type": "error",
     "traceback": [
      "\u001b[0;31m---------------------------------------------------------------------------\u001b[0m",
      "\u001b[0;31mNameError\u001b[0m                                 Traceback (most recent call last)",
      "\u001b[0;32m<ipython-input-1-bce0c64fc02d>\u001b[0m in \u001b[0;36m<module>\u001b[0;34m\u001b[0m\n\u001b[0;32m----> 1\u001b[0;31m \u001b[0mm\u001b[0m \u001b[0;34m=\u001b[0m \u001b[0mpickle\u001b[0m\u001b[0;34m.\u001b[0m\u001b[0mdumps\u001b[0m\u001b[0;34m(\u001b[0m\u001b[0;34m'clf_cv'\u001b[0m\u001b[0;34m)\u001b[0m\u001b[0;34m\u001b[0m\u001b[0;34m\u001b[0m\u001b[0m\n\u001b[0m",
      "\u001b[0;31mNameError\u001b[0m: name 'pickle' is not defined"
     ]
    }
   ],
   "source": [
    "m = pickle.dumps('clf_cv')"
   ]
  },
  {
   "cell_type": "markdown",
   "metadata": {},
   "source": [
    "### 10. Use this notebook to complete `train.py`\n",
    "Use the template file attached in the Resources folder to write a script that runs the steps above to create a database and export a model based on a new dataset specified by the user."
   ]
  },
  {
   "cell_type": "code",
   "execution_count": null,
   "metadata": {},
   "outputs": [],
   "source": []
  }
 ],
 "metadata": {
  "kernelspec": {
   "display_name": "Python 3",
   "language": "python",
   "name": "python3"
  },
  "language_info": {
   "codemirror_mode": {
    "name": "ipython",
    "version": 3
   },
   "file_extension": ".py",
   "mimetype": "text/x-python",
   "name": "python",
   "nbconvert_exporter": "python",
   "pygments_lexer": "ipython3",
   "version": "3.6.7"
  }
 },
 "nbformat": 4,
 "nbformat_minor": 2
}
